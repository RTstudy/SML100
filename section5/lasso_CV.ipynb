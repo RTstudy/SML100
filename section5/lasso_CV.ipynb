{
 "cells": [
  {
   "cell_type": "markdown",
   "metadata": {},
   "source": [
    "## lassoをCross validationにかける"
   ]
  },
  {
   "cell_type": "code",
   "execution_count": 36,
   "metadata": {},
   "outputs": [],
   "source": [
    "import numpy as np\n",
    "import matplotlib.pyplot as plt\n",
    "%matplotlib inline\n",
    "import japanize_matplotlib\n",
    "import scipy\n",
    "from scipy import stats\n",
    "from numpy.random import randn\n",
    "import copy"
   ]
  },
  {
   "cell_type": "code",
   "execution_count": 37,
   "metadata": {},
   "outputs": [],
   "source": [
    "from sklearn.linear_model import Lasso\n",
    "from sklearn.linear_model import LassoCV"
   ]
  },
  {
   "cell_type": "code",
   "execution_count": 38,
   "metadata": {},
   "outputs": [],
   "source": [
    "# load data\n",
    "df=np.loadtxt('crime.txt', delimiter='\\t')\n",
    "X = df[:,[i for i in range(2,7,1)]]\n",
    "p = X.shape[1]\n",
    "y = df[:,0]"
   ]
  },
  {
   "cell_type": "code",
   "execution_count": 40,
   "metadata": {},
   "outputs": [
    {
     "data": {
      "text/plain": [
       "array([ 478.,  494.,  643.,  341.,  773.,  603.,  484.,  546.,  424.,\n",
       "        548.,  506.,  819.,  541.,  491.,  514.,  371.,  457.,  437.,\n",
       "        570.,  432.,  619.,  357.,  623.,  547.,  792.,  799.,  439.,\n",
       "        867.,  912.,  462.,  859.,  805.,  652.,  776.,  919.,  732.,\n",
       "        657., 1419.,  989.,  821., 1740.,  815.,  760.,  936.,  863.,\n",
       "        783.,  715., 1504., 1324.,  940.])"
      ]
     },
     "execution_count": 40,
     "metadata": {},
     "output_type": "execute_result"
    }
   ],
   "source": [
    "y"
   ]
  },
  {
   "cell_type": "code",
   "execution_count": 47,
   "metadata": {},
   "outputs": [
    {
     "data": {
      "text/plain": [
       "array([11.09067594, -5.2800757 ,  4.65494282,  0.55015932,  2.84324295])"
      ]
     },
     "execution_count": 47,
     "metadata": {},
     "output_type": "execute_result"
    }
   ],
   "source": [
    "Las = Lasso(alpha = 20)\n",
    "Las.fit(X, y)\n",
    "Las.coef_"
   ]
  },
  {
   "cell_type": "code",
   "execution_count": 31,
   "metadata": {},
   "outputs": [
    {
     "name": "stdout",
     "output_type": "stream",
     "text": [
      "29.900000000000002\n",
      "[11.14516156 -4.87861992  4.24780979  0.63662582  1.52576885]\n"
     ]
    }
   ],
   "source": [
    "Lcv =LassoCV(alphas=np.arange(0.1, 30, 0.1), cv = 10)\n",
    "Lcv.fit(X, y)\n",
    "print(Lcv.alpha_)\n",
    "print(Lcv.coef_)"
   ]
  },
  {
   "cell_type": "code",
   "execution_count": 34,
   "metadata": {},
   "outputs": [],
   "source": [
    "#np.mean(Lcv.mse_path_,axis=1)"
   ]
  },
  {
   "cell_type": "code",
   "execution_count": 35,
   "metadata": {},
   "outputs": [
    {
     "data": {
      "text/plain": [
       "[<matplotlib.lines.Line2D at 0x2c6cce52be0>]"
      ]
     },
     "execution_count": 35,
     "metadata": {},
     "output_type": "execute_result"
    },
    {
     "data": {
      "image/png": "[encoded data removed]",
      "text/plain": [
       "<Figure size 432x288 with 1 Axes>"
      ]
     },
     "metadata": {
      "needs_background": "light"
     },
     "output_type": "display_data"
    }
   ],
   "source": [
    "plt.plot(np.log(Lcv.alphas_), np.mean(Lcv.mse_path_,axis=1))"
   ]
  },
  {
   "cell_type": "code",
   "execution_count": null,
   "metadata": {},
   "outputs": [],
   "source": []
  }
 ],
 "metadata": {
  "kernelspec": {
   "display_name": "Python 3",
   "language": "python",
   "name": "python3"
  },
  "language_info": {
   "codemirror_mode": {
    "name": "ipython",
    "version": 3
   },
   "file_extension": ".py",
   "mimetype": "text/x-python",
   "name": "python",
   "nbconvert_exporter": "python",
   "pygments_lexer": "ipython3",
   "version": "3.7.1"
  }
 },
 "nbformat": 4,
 "nbformat_minor": 4
}
