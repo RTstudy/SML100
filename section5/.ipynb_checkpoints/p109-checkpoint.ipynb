{
 "cells": [
  {
   "cell_type": "markdown",
   "metadata": {},
   "source": [
    "# 第五章の記述に関する検証\n",
    "- p109に「行列式の値が小さいと、信頼区間が大きくなる」という記述がある\n",
    "- この記述の意味について、サンプルデータを用いて検証する\n",
    "  - 文脈から考えて、$X^TX$の行列式を示しているものと思われる\n",
    "  \n",
    "## そもそも行列式が表すものとは何か\n",
    "- [Wikipediaの行列式](https://ja.wikipedia.org/wiki/%E8%A1%8C%E5%88%97%E5%BC%8F)にあるように、ベクトルによって張られる立体の体積の絶対値を示す\n",
    "- 行列式が大きい、ということはその立体が大きい、ということを示し、小さいということはその立体が小さい、ということを示す\n",
    "\n",
    "## 直感的な理解\n",
    "- 立体が大きい、ということは、例えば二次元平面上の場合、各点の距離が大きい、ということを示す\n",
    "- つまり点のばらつきが大きい、ということと同じである\n",
    "- ということは、線形回帰における説明変数のデータのばらつきが大きいと行列式が大きく、ばらつきが小さいと行列式が小さい、ということになるのではないか？\n",
    "- これはつまり、説明変数Xが広い範囲にばらついている場合とそうでない場合を比較したときにどうか、ということと同じになる\n",
    "- 直感的には、説明変数Xが広くばらついていた方が、回帰した直線の精度は高くなり、予測区間も小さくなるだろう、ということが考えられる"
   ]
  },
  {
   "cell_type": "code",
   "execution_count": 3,
   "metadata": {},
   "outputs": [],
   "source": [
    "# import library\n",
    "import numpy as np\n",
    "import matplotlib.pyplot as plt\n",
    "from sklearn.linear_model import LinearRegression\n",
    "import statsmodels.api as sm\n",
    "from statsmodels.sandbox.regression.predstd import wls_prediction_std\n",
    "%matplotlib inline"
   ]
  },
  {
   "cell_type": "markdown",
   "metadata": {},
   "source": [
    "## Xが0～10に分布している場合"
   ]
  },
  {
   "cell_type": "code",
   "execution_count": 5,
   "metadata": {},
   "outputs": [],
   "source": [
    "# create data for large variance data\n",
    "n = 100\n",
    "a = 0\n",
    "b = 10"
   ]
  },
  {
   "cell_type": "code",
   "execution_count": 31,
   "metadata": {},
   "outputs": [],
   "source": [
    "X = np.array([[1, (b - a) * np.random.rand() + a] for i in range(n)])"
   ]
  },
  {
   "cell_type": "code",
   "execution_count": 34,
   "metadata": {},
   "outputs": [
    {
     "name": "stdout",
     "output_type": "stream",
     "text": [
      "[[ 100.          517.21493424]\n",
      " [ 517.21493424 3558.23681137]]\n",
      "88312.39293801613\n"
     ]
    }
   ],
   "source": [
    "# X^TXの行列式の値\n",
    "print(X.T@X)\n",
    "print(np.linalg.det(X.T@X))"
   ]
  },
  {
   "cell_type": "code",
   "execution_count": 35,
   "metadata": {},
   "outputs": [],
   "source": [
    "# create dependent data\n",
    "beta = np.array([0,3])\n",
    "e = np.random.normal(loc=0, scale=3, size=n)\n",
    "y = X@beta +e"
   ]
  },
  {
   "cell_type": "code",
   "execution_count": 38,
   "metadata": {},
   "outputs": [
    {
     "data": {
      "text/plain": [
       "<matplotlib.collections.PathCollection at 0x22f83d8ce10>"
      ]
     },
     "execution_count": 38,
     "metadata": {},
     "output_type": "execute_result"
    },
    {
     "data": {
      "image/png": "[encoded data removed]",
      "text/plain": [
       "<Figure size 432x288 with 1 Axes>"
      ]
     },
     "metadata": {
      "needs_background": "light"
     },
     "output_type": "display_data"
    }
   ],
   "source": [
    "# plot\n",
    "plt.scatter(X[:,1],y)"
   ]
  },
  {
   "cell_type": "code",
   "execution_count": 41,
   "metadata": {},
   "outputs": [],
   "source": [
    "# regression\n",
    "res = sm.OLS(y, X).fit()\n",
    "prstd, iv_l, iv_u = wls_prediction_std(res)"
   ]
  },
  {
   "cell_type": "code",
   "execution_count": 42,
   "metadata": {},
   "outputs": [
    {
     "name": "stdout",
     "output_type": "stream",
     "text": [
      "                            OLS Regression Results                            \n",
      "==============================================================================\n",
      "Dep. Variable:                      y   R-squared:                       0.919\n",
      "Model:                            OLS   Adj. R-squared:                  0.918\n",
      "Method:                 Least Squares   F-statistic:                     1112.\n",
      "Date:                Fri, 16 Oct 2020   Prob (F-statistic):           2.71e-55\n",
      "Time:                        12:49:24   Log-Likelihood:                -240.66\n",
      "No. Observations:                 100   AIC:                             485.3\n",
      "Df Residuals:                      98   BIC:                             490.5\n",
      "Df Model:                           1                                         \n",
      "Covariance Type:            nonrobust                                         \n",
      "==============================================================================\n",
      "                 coef    std err          t      P>|t|      [0.025      0.975]\n",
      "------------------------------------------------------------------------------\n",
      "const         -0.3049      0.544     -0.560      0.577      -1.385       0.775\n",
      "x1             3.0438      0.091     33.351      0.000       2.863       3.225\n",
      "==============================================================================\n",
      "Omnibus:                        3.306   Durbin-Watson:                   2.023\n",
      "Prob(Omnibus):                  0.191   Jarque-Bera (JB):                2.682\n",
      "Skew:                           0.300   Prob(JB):                        0.262\n",
      "Kurtosis:                       3.533   Cond. No.                         12.2\n",
      "==============================================================================\n",
      "\n",
      "Notes:\n",
      "[1] Standard Errors assume that the covariance matrix of the errors is correctly specified.\n"
     ]
    }
   ],
   "source": [
    "print(res.summary())"
   ]
  },
  {
   "cell_type": "code",
   "execution_count": 44,
   "metadata": {},
   "outputs": [
    {
     "data": {
      "text/plain": [
       "<function matplotlib.pyplot.show(*args, **kw)>"
      ]
     },
     "execution_count": 44,
     "metadata": {},
     "output_type": "execute_result"
    },
    {
     "data": {
      "image/png": "[encoded data removed]",
      "text/plain": [
       "<Figure size 432x288 with 1 Axes>"
      ]
     },
     "metadata": {
      "needs_background": "light"
     },
     "output_type": "display_data"
    }
   ],
   "source": [
    "plt.plot(X[:,1],y,'o',label='Data')\n",
    "plt.plot(X[:,1],res.fittedvalues,'r--')\n",
    "plt.plot(X[:,1],iv_u,'r--')\n",
    "plt.plot(X[:,1],iv_l,'r--')\n",
    "plt.show"
   ]
  },
  {
   "cell_type": "markdown",
   "metadata": {},
   "source": [
    "# Xが8~10に分布している場合"
   ]
  },
  {
   "cell_type": "code",
   "execution_count": 48,
   "metadata": {},
   "outputs": [
    {
     "name": "stdout",
     "output_type": "stream",
     "text": [
      "[[ 100.          896.85796807]\n",
      " [ 896.85796807 8079.46004968]]\n",
      "3591.7900726632797\n",
      "                            OLS Regression Results                            \n",
      "==============================================================================\n",
      "Dep. Variable:                      y   R-squared:                       0.254\n",
      "Model:                            OLS   Adj. R-squared:                  0.247\n",
      "Method:                 Least Squares   F-statistic:                     33.45\n",
      "Date:                Fri, 16 Oct 2020   Prob (F-statistic):           8.75e-08\n",
      "Time:                        12:53:26   Log-Likelihood:                -257.81\n",
      "No. Observations:                 100   AIC:                             519.6\n",
      "Df Residuals:                      98   BIC:                             524.8\n",
      "Df Model:                           1                                         \n",
      "Covariance Type:            nonrobust                                         \n",
      "==============================================================================\n",
      "                 coef    std err          t      P>|t|      [0.025      0.975]\n",
      "------------------------------------------------------------------------------\n",
      "const         -1.4533      4.829     -0.301      0.764     -11.036       8.129\n",
      "x1             3.1068      0.537      5.783      0.000       2.041       4.173\n",
      "==============================================================================\n",
      "Omnibus:                        0.572   Durbin-Watson:                   1.931\n",
      "Prob(Omnibus):                  0.751   Jarque-Bera (JB):                0.324\n",
      "Skew:                           0.134   Prob(JB):                        0.851\n",
      "Kurtosis:                       3.077   Cond. No.                         136.\n",
      "==============================================================================\n",
      "\n",
      "Notes:\n",
      "[1] Standard Errors assume that the covariance matrix of the errors is correctly specified.\n"
     ]
    },
    {
     "data": {
      "image/png": "[encoded data removed]",
      "text/plain": [
       "<Figure size 432x288 with 1 Axes>"
      ]
     },
     "metadata": {
      "needs_background": "light"
     },
     "output_type": "display_data"
    }
   ],
   "source": [
    "# create data for large variance data\n",
    "n = 100\n",
    "a = 8\n",
    "b = 10\n",
    "X = np.array([[1, (b - a) * np.random.rand() + a] for i in range(n)])\n",
    "\n",
    "# X^TXの行列式の値\n",
    "print(X.T@X)\n",
    "print(np.linalg.det(X.T@X))\n",
    "\n",
    "# create dependent data\n",
    "beta = np.array([0,3])\n",
    "e = np.random.normal(loc=0, scale=3, size=n)\n",
    "y = X@beta +e\n",
    "\n",
    "# plot\n",
    "plt.scatter(X[:,1],y)\n",
    "plt.xlim([0,10])\n",
    "plt.ylim([-10,40])\n",
    "\n",
    "# regression\n",
    "res = sm.OLS(y, X).fit()\n",
    "prstd, iv_l, iv_u = wls_prediction_std(res)\n",
    "\n",
    "print(res.summary())"
   ]
  },
  {
   "cell_type": "code",
   "execution_count": 50,
   "metadata": {},
   "outputs": [
    {
     "data": {
      "text/plain": [
       "<function matplotlib.pyplot.show(*args, **kw)>"
      ]
     },
     "execution_count": 50,
     "metadata": {},
     "output_type": "execute_result"
    },
    {
     "data": {
      "image/png": "[encoded data removed]",
      "text/plain": [
       "<Figure size 432x288 with 1 Axes>"
      ]
     },
     "metadata": {
      "needs_background": "light"
     },
     "output_type": "display_data"
    }
   ],
   "source": [
    "plt.plot(X[:,1],y,'o',label='Data')\n",
    "plt.plot(X[:,1],res.fittedvalues,'r--')\n",
    "plt.plot(X[:,1],iv_u,'r--')\n",
    "plt.plot(X[:,1],iv_l,'r--')\n",
    "plt.xlim([0,10])\n",
    "plt.ylim([-10,40])\n",
    "plt.show"
   ]
  },
  {
   "cell_type": "markdown",
   "metadata": {},
   "source": [
    "- Xの範囲が狭いと、行列式の値が小さくなることが分かった\n",
    "- その結果、betaの標準誤差が大きくなり、予測値の信頼区間も大きくなる傾向がみられた\n",
    "- これらの結果は直感的な理解と合致する"
   ]
  }
 ],
 "metadata": {
  "kernelspec": {
   "display_name": "Python 3",
   "language": "python",
   "name": "python3"
  },
  "language_info": {
   "codemirror_mode": {
    "name": "ipython",
    "version": 3
   },
   "file_extension": ".py",
   "mimetype": "text/x-python",
   "name": "python",
   "nbconvert_exporter": "python",
   "pygments_lexer": "ipython3",
   "version": "3.7.1"
  }
 },
 "nbformat": 4,
 "nbformat_minor": 4
}
