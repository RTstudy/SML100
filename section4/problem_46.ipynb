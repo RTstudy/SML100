{
 "cells": [
  {
   "cell_type": "markdown",
   "metadata": {},
   "source": [
    "# 問題46\n",
    "## AICを求める処理"
   ]
  },
  {
   "cell_type": "code",
   "execution_count": 1,
   "metadata": {},
   "outputs": [],
   "source": [
    "# import library\n",
    "from sklearn.linear_model import LinearRegression\n",
    "import itertools"
   ]
  },
  {
   "cell_type": "code",
   "execution_count": 3,
   "metadata": {},
   "outputs": [],
   "source": [
    "# make instance for linear regression model\n",
    "res = LinearRegression()"
   ]
  },
  {
   "cell_type": "code",
   "execution_count": 4,
   "metadata": {},
   "outputs": [],
   "source": [
    "# return RSS minimum\n",
    "def RSS_min(X, y, T): # X:explanator variable, y:objective variable, T:list of parameter set\n",
    "    S_min = np.inf    # Set S_min as infinite at first\n",
    "    m = len(T)        # m is number of paramete set\n",
    "    for j in range(m):  # loop to calculate RSS for each parameter set\n",
    "        q=T[j]          # q is the paramete set\n",
    "        res.fit(X[:,q],y)   # execute fitting by selected explanatory variables\n",
    "        y_hat = res.predict(X[:,q])     # predict y based on selected explanatory variables\n",
    "        S = np.linalg.norm(y_hat-y)**2  # calculate RSS based on selected explanatory variables\n",
    "        if S < S_min:  # if RSS is minimum at this time, input RSS value to S_min, imput parameter set to set_q\n",
    "            S_min = S\n",
    "            set_q = q\n",
    "    return(S_min, set_q)"
   ]
  },
  {
   "cell_type": "code",
   "execution_count": 5,
   "metadata": {},
   "outputs": [
    {
     "name": "stderr",
     "output_type": "stream",
     "text": [
      "C:\\Users\\YusukeSato\\Anaconda3\\lib\\importlib\\_bootstrap.py:219: RuntimeWarning: numpy.ufunc size changed, may indicate binary incompatibility. Expected 192 from C header, got 216 from PyObject\n",
      "  return f(*args, **kwds)\n"
     ]
    }
   ],
   "source": [
    "# load dataset\n",
    "from sklearn.datasets import load_boston"
   ]
  },
  {
   "cell_type": "code",
   "execution_count": 10,
   "metadata": {},
   "outputs": [],
   "source": [
    "# load boston\n",
    "boston = load_boston()\n",
    "X = boston.data[:,[0,2,4,5,6,7,9,10,11,12]]\n",
    "y = boston.target"
   ]
  },
  {
   "cell_type": "code",
   "execution_count": 9,
   "metadata": {},
   "outputs": [
    {
     "name": "stdout",
     "output_type": "stream",
     "text": [
      "['CRIM' 'ZN' 'INDUS' 'CHAS' 'NOX' 'RM' 'AGE' 'DIS' 'RAD' 'TAX' 'PTRATIO'\n",
      " 'B' 'LSTAT']\n"
     ]
    }
   ],
   "source": [
    "print(boston.feature_names)"
   ]
  },
  {
   "cell_type": "code",
   "execution_count": 13,
   "metadata": {},
   "outputs": [],
   "source": [
    "n,p = X.shape     # n:number of observation, p:number of features\n",
    "AIC_min = np.inf  # set AIC_min to infinite at first"
   ]
  },
  {
   "cell_type": "code",
   "execution_count": 18,
   "metadata": {},
   "outputs": [
    {
     "name": "stdout",
     "output_type": "stream",
     "text": [
      "4770.415163216072 (0, 2, 3, 5, 7, 8, 9)\n"
     ]
    }
   ],
   "source": [
    "for k in range(1, p+1, 1):  # loop by number of features\n",
    "    T = list(itertools.combinations(range(p),k))  # make parameter combination by number of features defined by k\n",
    "    S_min, set_q = RSS_min(X, y, T)  # calc RSS for each parameter set and find minimum at k\n",
    "    AIC = n * np.log(S_min) + 2 * k   # originally blank1 -> AIC formula\n",
    "    if AIC < AIC_min:\n",
    "        AIC_min = AIC  # originally blank2\n",
    "        set_min = set_q # originally blank3\n",
    "print(AIC_min, set_min)"
   ]
  }
 ],
 "metadata": {
  "kernelspec": {
   "display_name": "Python 3",
   "language": "python",
   "name": "python3"
  },
  "language_info": {
   "codemirror_mode": {
    "name": "ipython",
    "version": 3
   },
   "file_extension": ".py",
   "mimetype": "text/x-python",
   "name": "python",
   "nbconvert_exporter": "python",
   "pygments_lexer": "ipython3",
   "version": "3.7.1"
  }
 },
 "nbformat": 4,
 "nbformat_minor": 4
}
