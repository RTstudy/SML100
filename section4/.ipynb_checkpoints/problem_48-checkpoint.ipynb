{
 "cells": [
  {
   "cell_type": "markdown",
   "metadata": {},
   "source": [
    "# 問題48\n",
    "- AICとBICの可視化"
   ]
  },
  {
   "cell_type": "code",
   "execution_count": 21,
   "metadata": {},
   "outputs": [],
   "source": [
    "# import library\n",
    "from sklearn.linear_model import LinearRegression\n",
    "import itertools\n",
    "import numpy as np\n",
    "import matplotlib.pyplot as plt\n",
    "%matplotlib inline\n",
    "import japanize_matplotlib"
   ]
  },
  {
   "cell_type": "code",
   "execution_count": 3,
   "metadata": {},
   "outputs": [],
   "source": [
    "# make instance for linear regression model\n",
    "res = LinearRegression()"
   ]
  },
  {
   "cell_type": "code",
   "execution_count": 4,
   "metadata": {},
   "outputs": [],
   "source": [
    "# return RSS minimum\n",
    "def RSS_min(X, y, T): # X:explanator variable, y:objective variable, T:list of parameter set\n",
    "    S_min = np.inf    # Set S_min as infinite at first\n",
    "    m = len(T)        # m is number of paramete set\n",
    "    for j in range(m):  # loop to calculate RSS for each parameter set\n",
    "        q=T[j]          # q is the paramete set\n",
    "        res.fit(X[:,q],y)   # execute fitting by selected explanatory variables\n",
    "        y_hat = res.predict(X[:,q])     # predict y based on selected explanatory variables\n",
    "        S = np.linalg.norm(y_hat-y)**2  # calculate RSS based on selected explanatory variables\n",
    "        if S < S_min:  # if RSS is minimum at this time, input RSS value to S_min, imput parameter set to set_q\n",
    "            S_min = S\n",
    "            set_q = q\n",
    "    return(S_min, set_q)"
   ]
  },
  {
   "cell_type": "code",
   "execution_count": 5,
   "metadata": {},
   "outputs": [],
   "source": [
    "# load dataset\n",
    "from sklearn.datasets import load_boston"
   ]
  },
  {
   "cell_type": "code",
   "execution_count": 6,
   "metadata": {},
   "outputs": [],
   "source": [
    "# load boston\n",
    "boston = load_boston()\n",
    "X = boston.data[:,[0,2,4,5,6,7,9,10,11,12]]\n",
    "y = boston.target"
   ]
  },
  {
   "cell_type": "code",
   "execution_count": 10,
   "metadata": {},
   "outputs": [],
   "source": [
    "def IC(X, y, k):\n",
    "    n, p = X.shape\n",
    "    T = list(itertools.combinations(range(p),k))\n",
    "    S, set = RSS_min(X, y, T)\n",
    "    AIC = n * np.log(S/n) + 2 * k\n",
    "    BIC = n * np.log(S/n) + k * np.log(n)\n",
    "    return{'AIC':AIC, 'BIC':BIC}"
   ]
  },
  {
   "cell_type": "code",
   "execution_count": 13,
   "metadata": {},
   "outputs": [
    {
     "name": "stdout",
     "output_type": "stream",
     "text": [
      "{'AIC': 1849.0091612970282, 'BIC': 1853.2356979663157}\n",
      "{'AIC': 1733.5765186960725, 'BIC': 1742.0295920346475}\n",
      "{'AIC': 1676.131471816204, 'BIC': 1688.8110818240666}\n",
      "{'AIC': 1659.3932492596307, 'BIC': 1676.2993959367805}\n",
      "{'AIC': 1631.4728375640882, 'BIC': 1652.6055209105255}\n",
      "{'AIC': 1620.6578386353062, 'BIC': 1646.017058651031}\n",
      "{'AIC': 1619.7876085566147, 'BIC': 1649.373365241627}\n",
      "{'AIC': 1621.1768387222319, 'BIC': 1654.9891320765316}\n",
      "{'AIC': 1622.290077847502, 'BIC': 1660.3289078710893}\n",
      "{'AIC': 1624.0750491302713, 'BIC': 1666.340415823146}\n"
     ]
    }
   ],
   "source": [
    "AIC_seq = []; BIC_seq = []\n",
    "n,p = X.shape     # n:number of observation, p:number of features\n",
    "\n",
    "for k in range(1, p+1, 1):\n",
    "    AIC_BIC_res = IC(X, y, k)  # 本文のコードだとAIC,BICそれぞれでICを実行するようになっていたが、無駄なので最初に実行して結果を格納し、appendするように変更している\n",
    "    print(AIC_BIC_res)\n",
    "    AIC_seq.append(AIC_BIC_res['AIC'])\n",
    "    BIC_seq.append(AIC_BIC_res['BIC'])"
   ]
  },
  {
   "cell_type": "code",
   "execution_count": 14,
   "metadata": {},
   "outputs": [
    {
     "name": "stdout",
     "output_type": "stream",
     "text": [
      "[1849.0091612970282, 1733.5765186960725, 1676.131471816204, 1659.3932492596307, 1631.4728375640882, 1620.6578386353062, 1619.7876085566147, 1621.1768387222319, 1622.290077847502, 1624.0750491302713]\n",
      "[1853.2356979663157, 1742.0295920346475, 1688.8110818240666, 1676.2993959367805, 1652.6055209105255, 1646.017058651031, 1649.373365241627, 1654.9891320765316, 1660.3289078710893, 1666.340415823146]\n"
     ]
    }
   ],
   "source": [
    "print(AIC_seq)\n",
    "print(BIC_seq)"
   ]
  },
  {
   "cell_type": "code",
   "execution_count": 22,
   "metadata": {},
   "outputs": [
    {
     "data": {
      "text/plain": [
       "<matplotlib.legend.Legend at 0x1e7cd8f9c88>"
      ]
     },
     "execution_count": 22,
     "metadata": {},
     "output_type": "execute_result"
    },
    {
     "data": {
      "image/png": "[encoded data removed]",
      "text/plain": [
       "<Figure size 432x288 with 1 Axes>"
      ]
     },
     "metadata": {
      "needs_background": "light"
     },
     "output_type": "display_data"
    }
   ],
   "source": [
    "x_seq = np.arange(1, p+1, 1)\n",
    "plt.plot(x_seq, AIC_seq, c='red', label='AIC')\n",
    "plt.plot(x_seq, BIC_seq, c='blue', label='BIC')\n",
    "plt.xlabel('変数の個数')\n",
    "plt.ylabel('AIC/BICの値')\n",
    "plt.title('変数の個数とAIC/BICの値の変化')\n",
    "plt.legend()"
   ]
  },
  {
   "cell_type": "code",
   "execution_count": null,
   "metadata": {},
   "outputs": [],
   "source": []
  }
 ],
 "metadata": {
  "kernelspec": {
   "display_name": "Python 3",
   "language": "python",
   "name": "python3"
  },
  "language_info": {
   "codemirror_mode": {
    "name": "ipython",
    "version": 3
   },
   "file_extension": ".py",
   "mimetype": "text/x-python",
   "name": "python",
   "nbconvert_exporter": "python",
   "pygments_lexer": "ipython3",
   "version": "3.7.1"
  }
 },
 "nbformat": 4,
 "nbformat_minor": 4
}
