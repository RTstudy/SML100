{
 "cells": [
  {
   "cell_type": "markdown",
   "metadata": {},
   "source": [
    "# 問題47\n",
    "- BICを求める処理を追加\n",
    "- AICとBICを比較\n",
    "- 調整済み決定係数を求める処理を作成"
   ]
  },
  {
   "cell_type": "code",
   "execution_count": 1,
   "metadata": {},
   "outputs": [],
   "source": [
    "# import library\n",
    "from sklearn.linear_model import LinearRegression\n",
    "import itertools\n",
    "import numpy as np"
   ]
  },
  {
   "cell_type": "code",
   "execution_count": 2,
   "metadata": {},
   "outputs": [],
   "source": [
    "# make instance for linear regression model\n",
    "res = LinearRegression()"
   ]
  },
  {
   "cell_type": "code",
   "execution_count": 3,
   "metadata": {},
   "outputs": [],
   "source": [
    "# return RSS minimum\n",
    "def RSS_min(X, y, T): # X:explanator variable, y:objective variable, T:list of parameter set\n",
    "    S_min = np.inf    # Set S_min as infinite at first\n",
    "    m = len(T)        # m is number of paramete set\n",
    "    for j in range(m):  # loop to calculate RSS for each parameter set\n",
    "        q=T[j]          # q is the paramete set\n",
    "        res.fit(X[:,q],y)   # execute fitting by selected explanatory variables\n",
    "        y_hat = res.predict(X[:,q])     # predict y based on selected explanatory variables\n",
    "        S = np.linalg.norm(y_hat-y)**2  # calculate RSS based on selected explanatory variables\n",
    "        if S < S_min:  # if RSS is minimum at this time, input RSS value to S_min, imput parameter set to set_q\n",
    "            S_min = S\n",
    "            set_q = q\n",
    "    return(S_min, set_q)"
   ]
  },
  {
   "cell_type": "code",
   "execution_count": 4,
   "metadata": {},
   "outputs": [],
   "source": [
    "# return AR2 maximum\n",
    "def AR2_calc(X, y, T):\n",
    "    S_max = -np.inf\n",
    "    m = len(T)\n",
    "    for j in range(m):\n",
    "        q = T[j]\n",
    "        res.fit(X[:,q],y)\n",
    "        y_hat = res.predict(X[:,q])\n",
    "        RSS = np.linalg.norm(y_hat - y) ** 2       # calc RSS\n",
    "        TSS = np.linalg.norm(y - np.mean(y)) ** 2  # calc TSS\n",
    "        S = 1 - ((RSS/(n-len(q)-1))/(TSS/(n-1)))   # calc AR2\n",
    "        # print(\"RSS:{} TSS:{} k:{} AR2:{} set:{}\".format(RSS, TSS, len(q), S, q))\n",
    "        if S > S_max:\n",
    "            S_max = S\n",
    "            set_q = q\n",
    "    return(S_max, set_q)"
   ]
  },
  {
   "cell_type": "code",
   "execution_count": 5,
   "metadata": {},
   "outputs": [],
   "source": [
    "# load dataset\n",
    "from sklearn.datasets import load_boston"
   ]
  },
  {
   "cell_type": "code",
   "execution_count": 6,
   "metadata": {},
   "outputs": [],
   "source": [
    "# load boston\n",
    "boston = load_boston()\n",
    "X = boston.data[:,[0,2,4,5,6,7,9,10,11,12]]\n",
    "y = boston.target"
   ]
  },
  {
   "cell_type": "code",
   "execution_count": 7,
   "metadata": {},
   "outputs": [
    {
     "name": "stdout",
     "output_type": "stream",
     "text": [
      "['CRIM' 'ZN' 'INDUS' 'CHAS' 'NOX' 'RM' 'AGE' 'DIS' 'RAD' 'TAX' 'PTRATIO'\n",
      " 'B' 'LSTAT']\n"
     ]
    }
   ],
   "source": [
    "print(boston.feature_names)"
   ]
  },
  {
   "cell_type": "code",
   "execution_count": 8,
   "metadata": {},
   "outputs": [],
   "source": [
    "# set variables and place holders\n",
    "n,p = X.shape     # n:number of observation, p:number of features\n",
    "AIC_min = np.inf  # set AIC_min to infinite at first\n",
    "BIC_min = np.inf  # add variable for BIC\n",
    "AR2_max = 0       # add variable for AR2\n",
    "set_min = []\n",
    "set_max = []"
   ]
  },
  {
   "cell_type": "code",
   "execution_count": 9,
   "metadata": {},
   "outputs": [],
   "source": [
    "def AIC(n, p, AIC_min):\n",
    "    for k in range(1, p+1, 1):  # loop by number of features\n",
    "        T = list(itertools.combinations(range(p),k))  # make parameter combination by number of features defined by k\n",
    "        S_min, set_q = RSS_min(X, y, T)  # calc RSS for each parameter set and find minimum at k\n",
    "        AIC = n * np.log(S_min/n) + 2 * k   # originally blank1 -> AIC formula\n",
    "        if AIC < AIC_min:\n",
    "            AIC_min = AIC  # originally blank2\n",
    "            set_min = set_q # originally blank3\n",
    "    return(AIC_min, set_min)"
   ]
  },
  {
   "cell_type": "code",
   "execution_count": 10,
   "metadata": {},
   "outputs": [],
   "source": [
    "def BIC(n, p, BIC_min):\n",
    "    for k in range(1, p+1, 1):  # loop by number of features\n",
    "        T = list(itertools.combinations(range(p),k))  # make parameter combination by number of features defined by k\n",
    "        S_min, set_q = RSS_min(X, y, T)  # calc RSS for each parameter set and find minimum at k\n",
    "        BIC = n * np.log(S_min/n) + k * np.log(n)   # change formula for BIC\n",
    "        if BIC < BIC_min:\n",
    "            BIC_min = BIC  # originally blank2\n",
    "            set_min = set_q # originally blank3\n",
    "    return(BIC_min, set_min)"
   ]
  },
  {
   "cell_type": "code",
   "execution_count": 11,
   "metadata": {},
   "outputs": [],
   "source": [
    "def AR2(n, p, AR2_max):\n",
    "    for k in range(1, p+1, 1):  # loop by number of features\n",
    "        T = list(itertools.combinations(range(p),k))  # make parameter combination by number of features defined by k\n",
    "        S_max, set_q = AR2_calc(X, y, T)  # calc AR2 for each parameter set and find minimum at k\n",
    "        if S_max > AR2_max:\n",
    "            AR2_max = S_max  # originally blank2\n",
    "            set_max = set_q # originally blank3\n",
    "    return(AR2_max, set_max)"
   ]
  },
  {
   "cell_type": "code",
   "execution_count": 12,
   "metadata": {},
   "outputs": [
    {
     "name": "stdout",
     "output_type": "stream",
     "text": [
      "(1619.7876085566147, (0, 2, 3, 5, 7, 8, 9))\n",
      "(1646.017058651031, (2, 3, 5, 7, 8, 9))\n",
      "(0.7130213433266738, (0, 2, 3, 5, 7, 8, 9))\n"
     ]
    }
   ],
   "source": [
    "print(AIC(n, p, AIC_min))\n",
    "print(BIC(n, p, BIC_min))\n",
    "print(AR2(n, p, AR2_max))"
   ]
  },
  {
   "cell_type": "markdown",
   "metadata": {},
   "source": [
    "本文のAR2のコードの結果は、コードを誤ったまま出力しているので誤った結果となっている。\n",
    "多分このコードで出力した結果が正しい。"
   ]
  }
 ],
 "metadata": {
  "kernelspec": {
   "display_name": "Python 3",
   "language": "python",
   "name": "python3"
  },
  "language_info": {
   "codemirror_mode": {
    "name": "ipython",
    "version": 3
   },
   "file_extension": ".py",
   "mimetype": "text/x-python",
   "name": "python",
   "nbconvert_exporter": "python",
   "pygments_lexer": "ipython3",
   "version": "3.7.1"
  }
 },
 "nbformat": 4,
 "nbformat_minor": 4
}
