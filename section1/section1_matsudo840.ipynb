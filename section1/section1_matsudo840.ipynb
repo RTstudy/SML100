{
 "cells": [
  {
   "cell_type": "markdown",
   "metadata": {},
   "source": [
    "# 第1章 線形回帰"
   ]
  },
  {
   "cell_type": "markdown",
   "metadata": {},
   "source": [
    "## 問題3"
   ]
  },
  {
   "cell_type": "code",
   "execution_count": 1,
   "metadata": {},
   "outputs": [
    {
     "name": "stderr",
     "output_type": "stream",
     "text": [
      "/usr/local/lib/python3.7/site-packages/japanize_matplotlib/japanize_matplotlib.py:15: MatplotlibDeprecationWarning: \n",
      "The createFontList function was deprecated in Matplotlib 3.2 and will be removed two minor releases later. Use FontManager.addfont instead.\n",
      "  font_list = font_manager.createFontList(font_files)\n"
     ]
    }
   ],
   "source": [
    "import numpy as np\n",
    "import matplotlib.pyplot as plt\n",
    "%matplotlib inline\n",
    "import japanize_matplotlib\n",
    "import scipy\n",
    "from scipy import stats\n",
    "from numpy.random import randn  \n",
    "# 標準正規乱数はよく使うので，randn として importしておく"
   ]
  },
  {
   "cell_type": "code",
   "execution_count": 10,
   "metadata": {},
   "outputs": [],
   "source": [
    "def min_sq(x,y):  # 最小二乗法の切片と傾きを求める関数\n",
    "    x_bar,y_bar=np.mean(x),np.mean(y)\n",
    "    beta_1=np.dot(x-x_bar,y-y_bar)/np.linalg.norm(x-x_bar)**2\n",
    "    beta_0=y_bar-beta_1*x_bar\n",
    "    return  [beta_1,beta_0]"
   ]
  },
  {
   "cell_type": "code",
   "execution_count": 11,
   "metadata": {},
   "outputs": [],
   "source": [
    "N=100\n",
    "a=np.random.normal(loc=2,scale=1,size=N)  # 平均・標準偏差・サイズ\n",
    "b=randn(1) # 係数\n",
    "x=randn(N)        \n",
    "y=a*x+b+randn(N)  # ここまで人工データの生成\n",
    "a1,b1=min_sq(x,y)           # 回帰係数・切片\n",
    "xx=x-np.mean(x)\n",
    "yy=y-np.mean(y) # 中心化\n",
    "a2,b2=min_sq(xx,yy)         # 中心化後の回帰係数・切片"
   ]
  },
  {
   "cell_type": "code",
   "execution_count": 12,
   "metadata": {},
   "outputs": [
    {
     "name": "stdout",
     "output_type": "stream",
     "text": [
      "2.1724900291664775 -0.6127479507105185\n",
      "2.1724900291664775 -1.1410106808454969e-17\n"
     ]
    }
   ],
   "source": [
    "print(a1, b1)\n",
    "print(a2, b2)"
   ]
  },
  {
   "cell_type": "code",
   "execution_count": 13,
   "metadata": {},
   "outputs": [],
   "source": [
    "x_seq=np.arange(-5,5,0.1)\n",
    "y_pre=x_seq*a1+b1\n",
    "yy_pre=x_seq*a2+b2"
   ]
  },
  {
   "cell_type": "code",
   "execution_count": 14,
   "metadata": {},
   "outputs": [
    {
     "data": {
      "text/plain": [
       "array([-1.08624501e+01, -1.06452011e+01, -1.04279521e+01, -1.02107031e+01,\n",
       "       -9.99345413e+00, -9.77620513e+00, -9.55895613e+00, -9.34170713e+00,\n",
       "       -9.12445812e+00, -8.90720912e+00, -8.68996012e+00, -8.47271111e+00,\n",
       "       -8.25546211e+00, -8.03821311e+00, -7.82096410e+00, -7.60371510e+00,\n",
       "       -7.38646610e+00, -7.16921710e+00, -6.95196809e+00, -6.73471909e+00,\n",
       "       -6.51747009e+00, -6.30022108e+00, -6.08297208e+00, -5.86572308e+00,\n",
       "       -5.64847408e+00, -5.43122507e+00, -5.21397607e+00, -4.99672707e+00,\n",
       "       -4.77947806e+00, -4.56222906e+00, -4.34498006e+00, -4.12773106e+00,\n",
       "       -3.91048205e+00, -3.69323305e+00, -3.47598405e+00, -3.25873504e+00,\n",
       "       -3.04148604e+00, -2.82423704e+00, -2.60698803e+00, -2.38973903e+00,\n",
       "       -2.17249003e+00, -1.95524103e+00, -1.73799202e+00, -1.52074302e+00,\n",
       "       -1.30349402e+00, -1.08624501e+00, -8.68996012e-01, -6.51747009e-01,\n",
       "       -4.34498006e-01, -2.17249003e-01, -3.86025853e-14,  2.17249003e-01,\n",
       "        4.34498006e-01,  6.51747009e-01,  8.68996012e-01,  1.08624501e+00,\n",
       "        1.30349402e+00,  1.52074302e+00,  1.73799202e+00,  1.95524103e+00,\n",
       "        2.17249003e+00,  2.38973903e+00,  2.60698803e+00,  2.82423704e+00,\n",
       "        3.04148604e+00,  3.25873504e+00,  3.47598405e+00,  3.69323305e+00,\n",
       "        3.91048205e+00,  4.12773106e+00,  4.34498006e+00,  4.56222906e+00,\n",
       "        4.77947806e+00,  4.99672707e+00,  5.21397607e+00,  5.43122507e+00,\n",
       "        5.64847408e+00,  5.86572308e+00,  6.08297208e+00,  6.30022108e+00,\n",
       "        6.51747009e+00,  6.73471909e+00,  6.95196809e+00,  7.16921710e+00,\n",
       "        7.38646610e+00,  7.60371510e+00,  7.82096410e+00,  8.03821311e+00,\n",
       "        8.25546211e+00,  8.47271111e+00,  8.68996012e+00,  8.90720912e+00,\n",
       "        9.12445812e+00,  9.34170713e+00,  9.55895613e+00,  9.77620513e+00,\n",
       "        9.99345413e+00,  1.02107031e+01,  1.04279521e+01,  1.06452011e+01])"
      ]
     },
     "execution_count": 14,
     "metadata": {},
     "output_type": "execute_result"
    }
   ],
   "source": [
    "yy_pre"
   ]
  },
  {
   "cell_type": "code",
   "execution_count": 15,
   "metadata": {},
   "outputs": [
    {
     "data": {
      "text/plain": [
       "<matplotlib.legend.Legend at 0x119bbfb90>"
      ]
     },
     "execution_count": 15,
     "metadata": {},
     "output_type": "execute_result"
    },
    {
     "data": {
      "image/png": "[encoded data removed]",
      "text/plain": [
       "<Figure size 432x288 with 1 Axes>"
      ]
     },
     "metadata": {
      "needs_background": "light"
     },
     "output_type": "display_data"
    }
   ],
   "source": [
    "plt.scatter(x,y,c=\"black\")\n",
    "plt.axhline(y=0,c=\"black\",linewidth=0.5)\n",
    "plt.axvline(x=0,c=\"black\",linewidth=0.5)\n",
    "plt.plot(x_seq,y_pre,c=\"blue\",label=\" 中心化前\")\n",
    "plt.plot(x_seq,yy_pre,c=\"orange\",label=\" 中心化後\")\n",
    "plt.legend(loc=\"upper left\")"
   ]
  }
 ],
 "metadata": {
  "kernelspec": {
   "display_name": "Python 3",
   "language": "python",
   "name": "python3"
  },
  "language_info": {
   "codemirror_mode": {
    "name": "ipython",
    "version": 3
   },
   "file_extension": ".py",
   "mimetype": "text/x-python",
   "name": "python",
   "nbconvert_exporter": "python",
   "pygments_lexer": "ipython3",
   "version": "3.7.7"
  }
 },
 "nbformat": 4,
 "nbformat_minor": 2
}
