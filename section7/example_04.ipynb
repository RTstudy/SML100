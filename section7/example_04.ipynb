{
 "cells": [
  {
   "cell_type": "markdown",
   "metadata": {},
   "source": [
    "# ブースティング"
   ]
  },
  {
   "cell_type": "code",
   "execution_count": 1,
   "metadata": {},
   "outputs": [
    {
     "name": "stderr",
     "output_type": "stream",
     "text": [
      "C:\\Users\\YusukeSato\\Anaconda3\\lib\\site-packages\\japanize_matplotlib\\japanize_matplotlib.py:15: MatplotlibDeprecationWarning: \n",
      "The createFontList function was deprecated in Matplotlib 3.2 and will be removed two minor releases later. Use FontManager.addfont instead.\n",
      "  font_list = font_manager.createFontList(font_files)\n"
     ]
    }
   ],
   "source": [
    "# 定型ライブラリ読み込み\n",
    "import numpy as np\n",
    "import matplotlib.pyplot as plt\n",
    "%matplotlib inline\n",
    "import japanize_matplotlib\n",
    "import scipy\n",
    "from scipy import stats\n",
    "from numpy.random import randn\n",
    "from numpy.random import randint\n",
    "import copy\n",
    "import statistics\n",
    "\n",
    "from sklearn.datasets import load_iris\n",
    "import pandas as pd"
   ]
  },
  {
   "cell_type": "code",
   "execution_count": 2,
   "metadata": {},
   "outputs": [],
   "source": [
    "# 別途定義した関数を読み込み\n",
    "# 試しにこのコードだけ、一部の関数を外だししてみた\n",
    "from functions import *"
   ]
  },
  {
   "cell_type": "code",
   "execution_count": 3,
   "metadata": {},
   "outputs": [],
   "source": [
    "# 枝の分割\n",
    "# 総当たり計算を実施\n",
    "    # 1. 各変数それぞれに対して\n",
    "    # 2. あるデータiを選択したときに\n",
    "    # 3. データiを閾値としてそれより小さいものをleft,以上をrightに格納\n",
    "    # 4. 分割したときの損失関数を算出\n",
    "    # 5. 損失関数が過去最少であった場合、閾値とデータ集合を更新\n",
    "def branch(x, y, S, rf = 0):\n",
    "    # x:入力データ\n",
    "    # y:ターゲットデータ\n",
    "    # S:変数jにおける全データを格納\n",
    "    # rf:ランダムフォレストを実行する際に利用する変数の数\n",
    "    if rf == 0:\n",
    "        T = np.arange(x.shape[1])   # mに変数の個数を格納\n",
    "    else:\n",
    "        T = np.random.choice(x.shape[1], rf, replace=False)  # rfは選択する変数の個数を表す\n",
    "    if x.shape[0] == 0:  # データがないとき？\n",
    "        return([0,0,0,0,0,0,0])\n",
    "    \n",
    "    #print(S)\n",
    "    \n",
    "    best_score = np.inf  # スコアをinfに設定し、最小値を探す\n",
    "    \n",
    "    for j in T:     # 変数の数だけループ\n",
    "        for i in S:                 # 後で出てくるコードでSにpoppedを格納している popはオプションなしで指定した配列の最後の要素を取り出す\n",
    "            left = []; right = []   # 枝の左右を初期化、left,rightはそれぞれの枝に入ったindexのリストである\n",
    "            for k in S:\n",
    "                if x[k,j] < x[i,j]:  # 枝の左右への振り分け j番目の変数におけるi番目のデータを閾値としたときの振り分けを実施\n",
    "                    left.append(k)   # 左に入ったデータのindexのリストに新たにindexを追加\n",
    "                else:\n",
    "                    right.append(k)  # 右に入ったデータのindexのリストに新たにindexを追加\n",
    "            left_score = f(y[left])           # 左側の損失関数を計算\n",
    "            right_score = f(y[right])         # 右側の損失関数を計算\n",
    "            score = left_score + right_score  # 合計値をスコアとする\n",
    "            \n",
    "            if score < best_score:                                      # スコアが過去のものより良い場合\n",
    "                best_score = score                                      # スコアの最小値を更新\n",
    "                i_1 = i; j_1 = j                                        # スコアが前回よりも小さい場合の閾値iと変数jのindexを格納\n",
    "                left_1 = left; right_1 = right                          # 分割されたデータ集合left,rightのindexを格納\n",
    "                left_score_1 = left_score; right_score_1 = right_score  # left,rightそれぞれの現時点での最小値を格納\n",
    "                \n",
    "    return [i_1, j_1, left_1, right_1, best_score, left_score_1, right_score_1]  # 返却"
   ]
  },
  {
   "cell_type": "code",
   "execution_count": 4,
   "metadata": {},
   "outputs": [],
   "source": [
    "# ブースティング用の枝を伸ばす関数\n",
    "def b_dt(x, y, d):\n",
    "    n = x.shape[0]   # データ数\n",
    "    node = []        # ノードを初期化\n",
    "    first = Node(0, -1, 0, np.arange(n))   # 最初のノードを定義\n",
    "    first.score = f(y[first.set])          # 最初のノードでスコアを算出\n",
    "    node.append(first)                     # nodeクラスに最初のノードを追加\n",
    "    \n",
    "    # ノードの数が規定数に達するまで枝を伸ばす処理を継続\n",
    "    while len(node) <= 2 * d - 1:\n",
    "        r = len(node)        # 現時点でのノードの数\n",
    "        gain_max = -np.inf   # gainを初期化\n",
    "        \n",
    "        # 現時点でのノードの数だけループ\n",
    "        for h in range(r):\n",
    "            if node[h].j == -1:    # ノードが端点である場合の処理\n",
    "                i, j, left, right, score, left_score, right_score = branch(x, y, node[h].set)\n",
    "                gain = node[h].score - score   # gainは現時点でのノードのスコアから新たに計算されたスコアを引く\n",
    "                # gainがこれまでの最大値よりも大きい場合、値を更新する\n",
    "                if gain > gain_max:\n",
    "                    gain_max = gain\n",
    "                    h_max = h\n",
    "                    i_0 = i; j_0 = j\n",
    "                    left_0 = left; right_0 = right\n",
    "                    left_score_0 = left_score; right_score_0 = right_score\n",
    "        \n",
    "        # gainが最大になったノードの値を使って新たなノードを生成する\n",
    "        node[h_max].th = x[i_0, j_0]; node[h_max].j = j_0\n",
    "        \n",
    "        # 左側にノードを生成\n",
    "        next = Node(h_max, -1, 0, left_0)\n",
    "        next.score = f(y[next.set]); node.append(next)\n",
    "        \n",
    "        # 右側にノードを生成\n",
    "        next = Node(h_max, -1, 0, right_0)\n",
    "        next.score = f(y[next.set]); node.append(next)\n",
    "        \n",
    "    r = 2 * d + 1\n",
    "    \n",
    "    # ノードの分岐を格納するデータをリセット\n",
    "    for h in range(r):\n",
    "        node[h].left = 0; node[h].right = 0\n",
    "    \n",
    "    # ノードの分岐を格納するデータに値を格納していく\n",
    "    for h in range(r-1, 1, -1):\n",
    "        pa = node[h].parent       # node[h]の親ノードをpaに格納\n",
    "        if node[pa].right == 0:   # node[h]の親ノードの右側にまだ値が格納されていない場合\n",
    "            node[pa].right = h    # node[h]をその親ノードのrightに格納\n",
    "        else:                     # そうでない場合\n",
    "            node[pa].left = h     # node[h]をその親ノードのleftに格納\n",
    "        if node[h].right == 0 and node[h].left == 0:  # ノードの左右への分岐に値がまだ入っていない場合\n",
    "            node[h].j = -1                            # ノードに端点フラグを立てる\n",
    "            \n",
    "    if f == sq_loss:      # 損失関数を二乗誤差にした場合の処理\n",
    "        g = np.mean       # 平均値を引数に与える関数とする\n",
    "    else:\n",
    "        g = mode_max      # 中央値を引数に与える関数とする\n",
    "        \n",
    "    for h in range(r):\n",
    "        if node[h].j == -1:\n",
    "            node[h].center = g(node[h].set)\n",
    "            \n",
    "    # ???ノードの分岐を格納するデータに値を格納していく\n",
    "    for h in range(r-1, -1, -1):\n",
    "        node[h].left = 0; node[h].right = 0\n",
    "    for h in range(r-1, 0, -1):\n",
    "        pa = node[h].parent       # node[h]の親ノードをpaに格納\n",
    "        if node[pa].right == 0:   # node[h]の親ノードの右側にまだ値が格納されていない場合\n",
    "            node[pa].right = h    # node[h]をその親ノードのrightに格納\n",
    "        else:                     # そうでない場合\n",
    "            node[pa].left = h     # node[h]をその親ノードのleftに格納\n",
    "            \n",
    "    # ???\n",
    "    if f == sq_loss:      # 損失関数を二乗誤差にした場合の処理\n",
    "        g = np.mean       # 平均値を引数に与える関数とする\n",
    "    else:\n",
    "        g = mode_max      # 中央値を引数に与える関数とする\n",
    "        \n",
    "    for h in range(r):\n",
    "        if node[h].j == -1:\n",
    "            node[h].center = g(node[h].set)\n",
    "        else:\n",
    "            node[h].center = 0\n",
    "\n",
    "    return node"
   ]
  },
  {
   "cell_type": "markdown",
   "metadata": {},
   "source": [
    "## 実行"
   ]
  },
  {
   "cell_type": "code",
   "execution_count": 5,
   "metadata": {},
   "outputs": [],
   "source": [
    "from sklearn.datasets import load_boston\n",
    "import pandas as pd\n",
    "\n",
    "# パラメータ\n",
    "B = 200\n",
    "lam = 0.1\n",
    "\n",
    "# データ読み込み\n",
    "boston = load_boston()\n",
    "X = boston.data\n",
    "y = boston.target\n",
    "f = sq_loss\n",
    "\n",
    "# トレーニングセットとテストセットの分割するためのindexリストを生成\n",
    "train = list(range(200))\n",
    "test = list(range(200,300))\n",
    "\n",
    "# 木のセットを初期化\n",
    "trees_set = []"
   ]
  },
  {
   "cell_type": "code",
   "execution_count": 6,
   "metadata": {},
   "outputs": [
    {
     "name": "stdout",
     "output_type": "stream",
     "text": [
      "0\n",
      "10\n",
      "20\n",
      "30\n",
      "40\n",
      "50\n",
      "60\n",
      "70\n",
      "80\n",
      "90\n",
      "100\n",
      "110\n",
      "120\n",
      "130\n",
      "140\n",
      "150\n",
      "160\n",
      "170\n",
      "180\n",
      "190\n",
      "1\n",
      "0\n",
      "10\n",
      "20\n",
      "30\n",
      "40\n",
      "50\n",
      "60\n",
      "70\n",
      "80\n",
      "90\n",
      "100\n",
      "110\n",
      "120\n",
      "130\n",
      "140\n",
      "150\n",
      "160\n",
      "170\n",
      "180\n",
      "190\n",
      "2\n",
      "0\n",
      "10\n",
      "20\n",
      "30\n",
      "40\n",
      "50\n",
      "60\n",
      "70\n",
      "80\n",
      "90\n",
      "100\n",
      "110\n",
      "120\n",
      "130\n",
      "140\n",
      "150\n",
      "160\n",
      "170\n",
      "180\n",
      "190\n",
      "3\n"
     ]
    }
   ],
   "source": [
    "for d in range(1, 4):\n",
    "    trees = []\n",
    "    r = y[train]\n",
    "    for b in range(B):\n",
    "        trees.append(b_dt(X[train, :], r, d))\n",
    "        for i in train:\n",
    "            r[i] = r[i] - lam*value(X[i, :], trees[b])\n",
    "        if b%10 == 0:\n",
    "            print(b)\n",
    "    print(d)\n",
    "    trees_set.append(trees)"
   ]
  },
  {
   "cell_type": "code",
   "execution_count": 18,
   "metadata": {},
   "outputs": [],
   "source": [
    "out_set = []\n",
    "for d in range(1,4):\n",
    "    trees = trees_set[d-1]\n",
    "    z = np.zeros((B,600))\n",
    "    for i in test:\n",
    "        z[0, i] = lam * value(X[i, :], trees[0])\n",
    "        for b in range(1,B):\n",
    "            for j in test:\n",
    "                z[b, j] = z[b-1, j] + lam * value(X[j, :], trees[b])\n",
    "    out = []\n",
    "    for b in range(B):\n",
    "        out.append(sum((y[test] - z[b, test])**2)/len(test))\n",
    "    out_set.append(out)"
   ]
  },
  {
   "cell_type": "code",
   "execution_count": 19,
   "metadata": {},
   "outputs": [
    {
     "data": {
      "text/plain": [
       "<matplotlib.legend.Legend at 0x188b8c95948>"
      ]
     },
     "execution_count": 19,
     "metadata": {},
     "output_type": "execute_result"
    },
    {
     "data": {
      "image/png": "[encoded data removed]",
      "text/plain": [
       "<Figure size 432x288 with 1 Axes>"
      ]
     },
     "metadata": {
      "needs_background": "light"
     },
     "output_type": "display_data"
    }
   ],
   "source": [
    "#plt.ylim([0, 40])\n",
    "c_seq = ['r', 'g', 'b']\n",
    "label_seq = ['d=1', 'd=2', 'd=3']\n",
    "plt.xlabel = ('生成した木の個数')\n",
    "plt.ylabel = ('テストデータでの二乗誤差')\n",
    "plt.title('lambda = 0.1')\n",
    "\n",
    "for d in range(1, 4):\n",
    "    out = out_set[d - 1]\n",
    "    u = range(20, 100)\n",
    "    v = out[20:100]\n",
    "    plt.plot(u,\n",
    "             v,\n",
    "             label = label_seq[d-1],\n",
    "             linewidth = 0.8,\n",
    "             c = c_seq[d-1])\n",
    "plt.legend(loc = 'upper right')\n",
    "\n",
    "# ???? 本書と同じようにならない"
   ]
  },
  {
   "cell_type": "markdown",
   "metadata": {},
   "source": [
    "## lightgbmを使った場合"
   ]
  },
  {
   "cell_type": "code",
   "execution_count": 25,
   "metadata": {},
   "outputs": [],
   "source": [
    "import lightgbm as lgb"
   ]
  },
  {
   "cell_type": "code",
   "execution_count": 28,
   "metadata": {},
   "outputs": [],
   "source": [
    "from sklearn.datasets import load_boston\n",
    "import pandas as pd\n",
    "\n",
    "boston = load_boston()\n",
    "X = boston.data\n",
    "y = boston.target\n",
    "\n",
    "train = list(range(200))\n",
    "test = list(range(200,300))\n",
    "\n",
    "lgb_train = lgb.Dataset(X[train,:], y[train])\n",
    "lgb_eval = lgb.Dataset(X[test,:], y[test], reference = lgb_train)\n",
    "B = 5000\n",
    "nn_seq = list(range(1, 10, 1)) + list(range(10, 91, 10)) + list(range(100, B, 50))\n",
    "\n",
    "out_set = []\n",
    "\n",
    "for d in range(1, 4):\n",
    "    lgbm_params = {\n",
    "        'objective': 'regression',\n",
    "        'metric': 'rmse',\n",
    "        'num_leaves': d+1,\n",
    "        'learning_rate': 0.001\n",
    "    }\n",
    "    out = []\n",
    "    for nn in nn_seq:\n",
    "        model = lgb.train(lgbm_params,\n",
    "                          lgb_train,\n",
    "                          valid_sets = lgb_eval,\n",
    "                          verbose_eval = False,\n",
    "                          num_boost_round = nn)\n",
    "        z = model.predict(X[test, :], num_iteration = model.best_iteration)\n",
    "        out.append(sum((z - y[test])**2)/100)\n",
    "    out_set.append(out)"
   ]
  },
  {
   "cell_type": "code",
   "execution_count": 29,
   "metadata": {},
   "outputs": [
    {
     "data": {
      "text/plain": [
       "<matplotlib.legend.Legend at 0x188ba3a0388>"
      ]
     },
     "execution_count": 29,
     "metadata": {},
     "output_type": "execute_result"
    },
    {
     "data": {
      "image/png": "[encoded data removed]",
      "text/plain": [
       "<Figure size 432x288 with 1 Axes>"
      ]
     },
     "metadata": {
      "needs_background": "light"
     },
     "output_type": "display_data"
    }
   ],
   "source": [
    "plt.ylim([0, 80])\n",
    "c_seq = ['r', 'g', 'b']\n",
    "label_seq = ['d=1', 'd=2', 'd=3']\n",
    "plt.xlabel = ('生成した木の個数')\n",
    "plt.ylabel = ('テストデータでの二乗誤差')\n",
    "plt.title('lightgbmパッケージ lambda = 0.1')\n",
    "\n",
    "for d in range(1, 4):\n",
    "    out = out_set[d - 1]\n",
    "    u = range(20, 100)\n",
    "    v = out[20:100]\n",
    "    plt.plot(u,\n",
    "             v,\n",
    "             label = label_seq[d-1],\n",
    "             linewidth = 0.8,\n",
    "             c = c_seq[d-1])\n",
    "plt.legend(loc = 'upper right')\n",
    "\n",
    "## 本書と同じ感じになった"
   ]
  },
  {
   "cell_type": "code",
   "execution_count": null,
   "metadata": {},
   "outputs": [],
   "source": []
  }
 ],
 "metadata": {
  "kernelspec": {
   "display_name": "Python 3",
   "language": "python",
   "name": "python3"
  },
  "language_info": {
   "codemirror_mode": {
    "name": "ipython",
    "version": 3
   },
   "file_extension": ".py",
   "mimetype": "text/x-python",
   "name": "python",
   "nbconvert_exporter": "python",
   "pygments_lexer": "ipython3",
   "version": "3.7.9"
  }
 },
 "nbformat": 4,
 "nbformat_minor": 4
}
