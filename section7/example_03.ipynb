{
 "cells": [
  {
   "cell_type": "markdown",
   "metadata": {},
   "source": [
    "# ランダムフォレスト"
   ]
  },
  {
   "cell_type": "code",
   "execution_count": 1,
   "metadata": {},
   "outputs": [
    {
     "name": "stderr",
     "output_type": "stream",
     "text": [
      "C:\\Users\\YusukeSato\\Anaconda3\\lib\\site-packages\\japanize_matplotlib\\japanize_matplotlib.py:15: MatplotlibDeprecationWarning: \n",
      "The createFontList function was deprecated in Matplotlib 3.2 and will be removed two minor releases later. Use FontManager.addfont instead.\n",
      "  font_list = font_manager.createFontList(font_files)\n"
     ]
    }
   ],
   "source": [
    "# 定型ライブラリ読み込み\n",
    "import numpy as np\n",
    "import matplotlib.pyplot as plt\n",
    "%matplotlib inline\n",
    "import japanize_matplotlib\n",
    "import scipy\n",
    "from scipy import stats\n",
    "from numpy.random import randn\n",
    "from numpy.random import randint\n",
    "import copy\n",
    "import statistics\n",
    "\n",
    "from sklearn.datasets import load_iris\n",
    "import pandas as pd"
   ]
  },
  {
   "cell_type": "markdown",
   "metadata": {},
   "source": [
    "## 損失関数を定義"
   ]
  },
  {
   "cell_type": "code",
   "execution_count": 2,
   "metadata": {},
   "outputs": [],
   "source": [
    "##　二乗誤差\n",
    "def sq_loss(y):\n",
    "    if len(y) == 0:\n",
    "        return 0\n",
    "    else:\n",
    "        y_bar = np.mean(y)\n",
    "        return np.linalg.norm(y-y_bar)**2  # L2ノルムを計算し二乗している"
   ]
  },
  {
   "cell_type": "code",
   "execution_count": 3,
   "metadata": {},
   "outputs": [],
   "source": [
    "## 頻度\n",
    "### 各要素の頻度を算出\n",
    "def freq(y):\n",
    "    y = list(y)\n",
    "    return [y.count(i) for i in set(y)]"
   ]
  },
  {
   "cell_type": "code",
   "execution_count": 4,
   "metadata": {},
   "outputs": [],
   "source": [
    "## 最頻値\n",
    "def mode(y):\n",
    "    n = len(y)\n",
    "    if n == 0:\n",
    "        return 0\n",
    "    return max(freq(y))"
   ]
  },
  {
   "cell_type": "code",
   "execution_count": 5,
   "metadata": {},
   "outputs": [],
   "source": [
    "# 誤り数\n",
    "def mis_match(y):\n",
    "    return len(y) - mode(y)"
   ]
  },
  {
   "cell_type": "code",
   "execution_count": 6,
   "metadata": {},
   "outputs": [],
   "source": [
    "# Gini\n",
    "def gini(y):\n",
    "    n = len(y)\n",
    "    if n == 0:\n",
    "        return 0\n",
    "    fr = freq\n",
    "    return sum([fr[i]/n * (n - fr[i]) for i in range(len(fr))])"
   ]
  },
  {
   "cell_type": "code",
   "execution_count": 7,
   "metadata": {},
   "outputs": [],
   "source": [
    "# Entropy\n",
    "def entropy(y):\n",
    "    n = len(y)\n",
    "    if n == 0:\n",
    "        return 0\n",
    "    freq = [y.count(i) for i in set(y)]\n",
    "    return np.sum([-freq[i] * np.log(freq[i]/n) for i in range(len(freq))])"
   ]
  },
  {
   "cell_type": "code",
   "execution_count": 8,
   "metadata": {},
   "outputs": [],
   "source": [
    "def mode_max(y):\n",
    "    if len(y) == 0:\n",
    "        return -np.inf\n",
    "    count = np.bincount(y)\n",
    "    return np.argmax(count)"
   ]
  },
  {
   "cell_type": "markdown",
   "metadata": {},
   "source": [
    "## 実行用の関数を定義"
   ]
  },
  {
   "cell_type": "code",
   "execution_count": 9,
   "metadata": {},
   "outputs": [],
   "source": [
    "# 枝の分割\n",
    "# 総当たり計算を実施\n",
    "    # 1. 各変数それぞれに対して\n",
    "    # 2. あるデータiを選択したときに\n",
    "    # 3. データiを閾値としてそれより小さいものをleft,以上をrightに格納\n",
    "    # 4. 分割したときの損失関数を算出\n",
    "    # 5. 損失関数が過去最少であった場合、閾値とデータ集合を更新\n",
    "def branch(x, y, S, rf = 0):\n",
    "    # x:入力データ\n",
    "    # y:ターゲットデータ\n",
    "    # S:変数jにおける全データを格納\n",
    "    # rf:ランダムフォレストの実施の有無？\n",
    "    if rf == 0:\n",
    "        T = np.arange(x.shape[1])   # mに変数の個数を格納\n",
    "    else:\n",
    "        T = np.random.choice(x.shape[1], rf, replace=False)  # rfは選択する変数の個数を表す\n",
    "    if x.shape[0] == 0:  # データがないとき？\n",
    "        return([0,0,0,0,0,0,0])\n",
    "    \n",
    "    #print(S)\n",
    "    \n",
    "    best_score = np.inf  # スコアをinfに設定し、最小値を探す\n",
    "    \n",
    "    for j in T:     # 変数の数だけループ\n",
    "        for i in S:                 # 後で出てくるコードでSにpoppedを格納している popはオプションなしで指定した配列の最後の要素を取り出す\n",
    "            left = []; right = []   # 枝の左右を初期化、left,rightはそれぞれの枝に入ったindexのリストである\n",
    "            for k in S:\n",
    "                if x[k,j] < x[i,j]:  # 枝の左右への振り分け j番目の変数におけるi番目のデータを閾値としたときの振り分けを実施\n",
    "                    left.append(k)   # 左に入ったデータのindexのリストに新たにindexを追加\n",
    "                else:\n",
    "                    right.append(k)  # 右に入ったデータのindexのリストに新たにindexを追加\n",
    "            left_score = f(y[left])           # 左側の損失関数を計算\n",
    "            right_score = f(y[right])         # 右側の損失関数を計算\n",
    "            score = left_score + right_score  # 合計値をスコアとする\n",
    "            \n",
    "            if score < best_score:                                      # スコアが過去のものより良い場合\n",
    "                best_score = score                                      # スコアの最小値を更新\n",
    "                i_1 = i; j_1 = j                                        # スコアが前回よりも小さい場合の閾値iと変数jのindexを格納\n",
    "                left_1 = left; right_1 = right                          # 分割されたデータ集合left,rightのindexを格納\n",
    "                left_score_1 = left_score; right_score_1 = right_score  # left,rightそれぞれの現時点での最小値を格納\n",
    "                \n",
    "    return [i_1, j_1, left_1, right_1, best_score, left_score_1, right_score_1]  # 返却"
   ]
  },
  {
   "cell_type": "code",
   "execution_count": 10,
   "metadata": {},
   "outputs": [],
   "source": [
    "# データスタック\n",
    "    # データ格納用にクラスを利用\n",
    "class Stack:\n",
    "    def __init__(self, parent, set, score):\n",
    "        self.parent = parent   # 親ノードの番号\n",
    "        self.set = set         # データのindexリスト\n",
    "        self.score = score     # 損失関数\n",
    "        \n",
    "# ノード\n",
    "    # データ格納用にクラスを利用\n",
    "class Node:\n",
    "    def __init__(self, parent, j, th, set):\n",
    "        # parent:親ノードの番号\n",
    "        # j:自身のノード番号\n",
    "        # th:分岐の際の閾値\n",
    "        # set:ノード内のデータ集合のindexリスト\n",
    "        self.parent = parent\n",
    "        self.j = j\n",
    "        self.th = th\n",
    "        self.set = set"
   ]
  },
  {
   "cell_type": "code",
   "execution_count": 11,
   "metadata": {},
   "outputs": [],
   "source": [
    "# 枝を伸ばす\n",
    "def dt(x, y, alpha = 0, n_min = 1, rf = 0):\n",
    "    # x:入力データ\n",
    "    # y:ターゲットデータ\n",
    "    # alpha:後で利用\n",
    "    # n_min:各ノードにおけるデータ集合の最小値\n",
    "    # rf:ランダムフォレストを実行する際に利用する変数の数\n",
    "    if rf == 0:\n",
    "        m = x.shape[1]\n",
    "    \n",
    "    stack = [Stack(0, list(range(x.shape[0])), f(y))]   # stackを初期化\n",
    "    node = []   # nodeを初期化\n",
    "    k = -1      # kを初期化\n",
    "    \n",
    "    # stackに何かしらデータが残っている間のループ\n",
    "    while len(stack) > 0:\n",
    "        popped = stack.pop()   # stackの最後のデータを取り出してpoppedに格納\n",
    "        #print(popped.parent, popped.score, popped.set)\n",
    "\n",
    "        k = k + 1\n",
    "        i, j, left, right, score, left_score, right_score = branch(x, y, popped.set, rf)  # 枝の分割を計算 Sにはpopped.setを入れる\n",
    "        if popped.score - score < alpha or len(popped.set) < n_min or len(left) == 0 or len(right) == 0:\n",
    "            # 以下の条件を満たすとき、枝をそこで止める\n",
    "            ## 1. 一回前とのスコアの差分が閾値alphaより小さい\n",
    "            ## 2. ノードのデータ集合数がn_minより小さい\n",
    "            ## 3. 左の枝が空集合\n",
    "            ## 4. 右の枝が空集合\n",
    "            node.append(Node(popped.parent, -1, 0, popped.set))\n",
    "        else:\n",
    "            node.append(Node(popped.parent, j, x[i,j], popped.set))\n",
    "            stack.append(Stack(k, right, right_score))\n",
    "            stack.append(Stack(k, left, left_score))\n",
    "    ### 枝を伸ばす処理はここまで\n",
    "    \n",
    "    # ノードの分岐構造をデータにする\n",
    "    for h in range(k, -1, -1):\n",
    "        # kは枝の数\n",
    "        # 各ノードにleft, rightを設定する、そのための初期化\n",
    "        node[h].left = 0\n",
    "        node[h].right = 0\n",
    "\n",
    "    for h in range(k, 0, -1):  # kから降順で最後の値の一つ手前まで\n",
    "        pa = node[h].parent       # node[h]の親ノードをpaに格納\n",
    "        #print(h, pa)\n",
    "        if node[pa].right == 0:   # node[h]の親ノードの右側にまだ値が格納されていない場合\n",
    "            node[pa].right = h   # node[h]をその親ノードのrightに格納\n",
    "        else:                     # そうでない場合\n",
    "            node[pa].left = h    # node[h]をその親ノードのleftに格納\n",
    "        #print(h, pa, node[pa].right, node[pa].left)\n",
    "    \n",
    "    # \n",
    "    if f == sq_loss:      # 損失関数を二乗誤差にした場合の処理\n",
    "        g = np.mean       # 平均値を引数に与える関数とする\n",
    "    else:\n",
    "        g = mode_max      # 中央値を引数に与える関数とする\n",
    "    for h in range(k+1):\n",
    "        if node[h].j == -1:    # ノードが枝分かれしていない場合\n",
    "            node[h].center = g(y[node[h].set])    # そのノードの集合におけるターゲットの平均もしくは最頻値をそのノードのcenterとする\n",
    "        else:\n",
    "            node[h].center = 0                    # ノードが枝分かれしている場合はcenterを決めずとする\n",
    "            \n",
    "    return node"
   ]
  },
  {
   "cell_type": "code",
   "execution_count": 12,
   "metadata": {},
   "outputs": [],
   "source": [
    "# 計算済みのモデルを使って新しいデータに対する予測値を計算\n",
    "def value(u, node):\n",
    "    # u:入力データ\n",
    "    # node:計算済みのモデル\n",
    "    r = 0    # 初期化\n",
    "    \n",
    "    #print(u)\n",
    "    \n",
    "    # 端点に達するまでループ\n",
    "    while node[r].j != -1:\n",
    "        #print(r)\n",
    "        #print(node[r].left, node[r].right)\n",
    "        if u[node[r].j] < node[r].th:   # 入力値が閾値よりも小さい場合、左のノードへ\n",
    "            #print(node[r].left)\n",
    "            #print(u[node[r].j], node[r].th)\n",
    "            r = node[r].left\n",
    "        else:                           # 入力値が閾値以上の場合、右のノードへ\n",
    "            #print(node[r].right)\n",
    "            r = node[r].right\n",
    "    return node[r].center               # 端点に達した時、端点が格納しているcenterの値を返す"
   ]
  },
  {
   "cell_type": "markdown",
   "metadata": {},
   "source": [
    "## フィッシャーのirisのデータで実験"
   ]
  },
  {
   "cell_type": "code",
   "execution_count": 13,
   "metadata": {},
   "outputs": [],
   "source": [
    "# 正当数を計算する\n",
    "def rf(z):\n",
    "    z = np.array(z, dtype=np.int64)\n",
    "    zz = []\n",
    "    for b in range(B):\n",
    "        u = sum([mode_max(z[range(b+1),i]) == y[i+100] for i in range(50)])\n",
    "        zz.append(u)\n",
    "    return zz"
   ]
  },
  {
   "cell_type": "code",
   "execution_count": 19,
   "metadata": {},
   "outputs": [
    {
     "data": {
      "text/plain": [
       "<matplotlib.lines.Line2D at 0x21384221f08>"
      ]
     },
     "execution_count": 19,
     "metadata": {},
     "output_type": "execute_result"
    },
    {
     "data": {
      "image/png": "[encoded data removed]",
      "text/plain": [
       "<Figure size 432x288 with 1 Axes>"
      ]
     },
     "metadata": {
      "needs_background": "light"
     },
     "output_type": "display_data"
    }
   ],
   "source": [
    "# データ作成\n",
    "iris = load_iris()                              # データをロード\n",
    "iris.target_names                               # 変数名を表示？\n",
    "f = mis_match                                   # 損失関数をmis_matchに設定\n",
    "n = iris.data.shape[0]                          # n数を算出（配列の行数）\n",
    "order = np.random.choice(n, n, replace=False)   # データをランダムに並び替えするためのindexの並びを生成\n",
    "\n",
    "X = iris.data[order, :]   # 入力データを並び替え\n",
    "y = iris.target[order]    # ターゲットデータを並び替え\n",
    "\n",
    "# トレーニングセットとテストセットに分割\n",
    "train = list(range(100))          # 最初の100個をトレーニングセットに\n",
    "test = list(range(100, 150))      # 後ろの50個をテストセットに\n",
    "\n",
    "# 初期設定\n",
    "B = 100  # 木の数\n",
    "\n",
    "# 描画用の設定\n",
    "plt.ylim([35,55])\n",
    "m_seq = [1,2,3,4]\n",
    "c_seq = ['r', 'g', 'b', 'y']\n",
    "label_seq = ['m=1', 'm=2', 'm=3', 'm=4']\n",
    "plt.xlabel('繰り返し数 b')\n",
    "plt.ylabel('テスト50データでの正当数')\n",
    "plt.title('ランダムフォレスト')\n",
    "\n",
    "# 実行\n",
    "for m in m_seq:\n",
    "    # 予測値を格納する配列を初期化\n",
    "    z = np.zeros((B, 50))\n",
    "    \n",
    "    # 指定した木の数だけ、決定木を作る関数をループさせる\n",
    "    for b in range(B):\n",
    "        index = np.random.choice(train, 100, replace = True)   # トレーニングセットから重複ありでデータをサンプリング\n",
    "        node = dt(X[index, :], y[index], n_min = 2, rf = m)    # サンプリングしたデータで変数の個数mで木を生成\n",
    "        \n",
    "        # 生成された木で各テストデータの予測値を計算\n",
    "        for i in test:\n",
    "            z[b, i-100] = value(X[i,], node)\n",
    "            \n",
    "    # 正答率のラインを描画する\n",
    "    plt.plot(list(range(B)),\n",
    "             np.array(rf(z))-0.2*(m-2),\n",
    "             label = label_seq[m-1],\n",
    "             linewidth = 0.8,\n",
    "             c = c_seq[m-1])\n",
    "plt.legend(loc = 'lower right')\n",
    "plt.axhline(y = 50,\n",
    "            c = 'b',\n",
    "            linewidth = 0.5,\n",
    "            linestyle = 'dashed')"
   ]
  }
 ],
 "metadata": {
  "kernelspec": {
   "display_name": "Python 3",
   "language": "python",
   "name": "python3"
  },
  "language_info": {
   "codemirror_mode": {
    "name": "ipython",
    "version": 3
   },
   "file_extension": ".py",
   "mimetype": "text/x-python",
   "name": "python",
   "nbconvert_exporter": "python",
   "pygments_lexer": "ipython3",
   "version": "3.7.9"
  }
 },
 "nbformat": 4,
 "nbformat_minor": 4
}
