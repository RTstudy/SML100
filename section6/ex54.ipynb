{
 "cells": [
  {
   "cell_type": "markdown",
   "metadata": {},
   "source": [
    "# スプライン回帰"
   ]
  },
  {
   "cell_type": "code",
   "execution_count": 68,
   "metadata": {},
   "outputs": [],
   "source": [
    "# load necessary libraries\n",
    "import numpy as np\n",
    "import matplotlib.pyplot as plt\n",
    "%matplotlib inline\n",
    "import japanize_matplotlib\n",
    "import scipy\n",
    "from scipy import stats\n",
    "from numpy.random import randn\n",
    "import copy"
   ]
  },
  {
   "cell_type": "code",
   "execution_count": 69,
   "metadata": {},
   "outputs": [],
   "source": [
    "# generate data\n",
    "n = 100\n",
    "x = randn(n) * 2 * np.pi\n",
    "y = np.sin(x) + (0.2 * randn(n))"
   ]
  },
  {
   "cell_type": "code",
   "execution_count": 70,
   "metadata": {},
   "outputs": [],
   "source": [
    "# setting\n",
    "col_set = ['red', 'green', 'blue']\n",
    "K_set = [5, 7, 9]  # list of number for deviding x-axis"
   ]
  },
  {
   "cell_type": "code",
   "execution_count": 71,
   "metadata": {},
   "outputs": [
    {
     "data": {
      "text/plain": [
       "(-5.0, 5.0)"
      ]
     },
     "execution_count": 71,
     "metadata": {},
     "output_type": "execute_result"
    },
    {
     "data": {
      "image/png": "[encoded data removed]",
      "text/plain": [
       "<Figure size 432x288 with 1 Axes>"
      ]
     },
     "metadata": {
      "needs_background": "light"
     },
     "output_type": "display_data"
    }
   ],
   "source": [
    "# plot initial data\n",
    "plt.scatter(x, y, c='black', s = 10)\n",
    "plt.xlim(-5, 5)"
   ]
  },
  {
   "cell_type": "code",
   "execution_count": 97,
   "metadata": {},
   "outputs": [
    {
     "name": "stdout",
     "output_type": "stream",
     "text": [
      "[-4.08446113 -1.54159013 -0.17223468 -0.00584324  0.01709465 -0.00868293\n",
      " -0.02669806  0.0582057  -0.06116591]\n",
      "[ 1.55395539e+01  4.97817896e+00  4.91903384e-01  1.50290344e-02\n",
      " -1.51524372e-01  3.35678014e-01 -2.86949052e-01 -3.83294004e-02\n",
      "  3.83032498e-01 -4.60903802e-01  2.48099543e-01]\n",
      "[ 1.70694069e+01  5.44686532e+00  5.37010376e-01  1.63923573e-02\n",
      " -1.91846319e-01  2.96979896e-01  2.00224939e-02 -2.94708659e-01\n",
      "  7.50217581e-02  1.16269995e-01  2.37969389e-01 -6.06442598e-01\n",
      "  3.87763376e-01]\n"
     ]
    }
   ],
   "source": [
    "for k in range(3):\n",
    "    K = K_set[k]\n",
    "    knots = np.linspace(-2*np.pi, 2*np.pi, K)\n",
    "    X = np.zeros((n, K+4))\n",
    "    for i in range(n):\n",
    "        X[i, 0] = 1\n",
    "        X[i, 1] = x[i]\n",
    "        X[i, 2] = x[i]**2\n",
    "        X[i, 3] = x[i]**3\n",
    "        for j in range(K):\n",
    "            X[i, j+4] = np.maximum((x[i]-knots[j])**3, 0)\n",
    "    #print(X[0:1,])\n",
    "    beta = np.linalg.inv(X.T@X)@X.T@y\n",
    "    print(beta)"
   ]
  },
  {
   "cell_type": "code",
   "execution_count": 104,
   "metadata": {},
   "outputs": [],
   "source": [
    "# define function to generate matrix X from vector x\n",
    "def genMat(x, k):\n",
    "    n = len(x)\n",
    "    knots = np.linspace(-2*np.pi, 2*np.pi, k)   # devide by number K\n",
    "    X = np.array([x ** i for i in range(4)]).T  # refactored\n",
    "    X_diff = (np.tile(X[:,1],(k,1)).T - np.tile(knots,(n,1)))**3\n",
    "    X_diff = np.where(X_diff < 0, 0, X_diff)\n",
    "    X = np.hstack((X,X_diff))\n",
    "    return(X)"
   ]
  },
  {
   "cell_type": "code",
   "execution_count": 121,
   "metadata": {},
   "outputs": [
    {
     "name": "stdout",
     "output_type": "stream",
     "text": [
      "[-4.08446113 -1.54159013 -0.17223468 -0.00584324  0.01709465 -0.00868293\n",
      " -0.02669806  0.0582057  -0.06116591]\n",
      "[ 1.55395539e+01  4.97817896e+00  4.91903384e-01  1.50290344e-02\n",
      " -1.51524372e-01  3.35678014e-01 -2.86949052e-01 -3.83294004e-02\n",
      "  3.83032498e-01 -4.60903802e-01  2.48099543e-01]\n",
      "[ 1.70694069e+01  5.44686532e+00  5.37010376e-01  1.63923573e-02\n",
      " -1.91846319e-01  2.96979896e-01  2.00224939e-02 -2.94708659e-01\n",
      "  7.50217581e-02  1.16269995e-01  2.37969389e-01 -6.06442598e-01\n",
      "  3.87763376e-01]\n"
     ]
    },
    {
     "data": {
      "text/plain": [
       "<matplotlib.legend.Legend at 0x232ebd5b288>"
      ]
     },
     "execution_count": 121,
     "metadata": {},
     "output_type": "execute_result"
    },
    {
     "data": {
      "image/png": "[encoded data removed]",
      "text/plain": [
       "<Figure size 432x288 with 1 Axes>"
      ]
     },
     "metadata": {
      "needs_background": "light"
     },
     "output_type": "display_data"
    }
   ],
   "source": [
    "# calculate beta for each devided area\n",
    "# assumption : polinomial is 3 dimensions\n",
    "# check whether I can get the same results with original code\n",
    "plt.scatter(x, y, c='black', s = 10)\n",
    "plt.xlim(-5, 5)\n",
    "\n",
    "for k in range(len(K_set)):\n",
    "    K = K_set[k]\n",
    "    X = genMat(x,K)\n",
    "    beta = np.linalg.inv(X.T @ X) @ X.T @ y\n",
    "    print(beta)  # result check\n",
    "    \n",
    "    u_seq = np.arange(-5, 5, 0.02)\n",
    "    S = genMat(u_seq, K) @ beta\n",
    "    \n",
    "    plt.plot(u_seq, S, c=col_set[k], label='K={}'.format(K))\n",
    "plt.legend()"
   ]
  },
  {
   "cell_type": "code",
   "execution_count": 8,
   "metadata": {},
   "outputs": [
    {
     "data": {
      "text/plain": [
       "array([-6.28318531, -3.14159265,  0.        ,  3.14159265,  6.28318531])"
      ]
     },
     "execution_count": 8,
     "metadata": {},
     "output_type": "execute_result"
    }
   ],
   "source": [
    "np.linspace(-2*np.pi, 2*np.pi, 5)"
   ]
  }
 ],
 "metadata": {
  "kernelspec": {
   "display_name": "Python 3",
   "language": "python",
   "name": "python3"
  },
  "language_info": {
   "codemirror_mode": {
    "name": "ipython",
    "version": 3
   },
   "file_extension": ".py",
   "mimetype": "text/x-python",
   "name": "python",
   "nbconvert_exporter": "python",
   "pygments_lexer": "ipython3",
   "version": "3.7.9"
  }
 },
 "nbformat": 4,
 "nbformat_minor": 4
}
